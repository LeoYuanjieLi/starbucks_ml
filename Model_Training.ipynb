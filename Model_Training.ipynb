{
 "cells": [
  {
   "cell_type": "markdown",
   "metadata": {},
   "source": [
    "# Model Training"
   ]
  },
  {
   "cell_type": "code",
   "execution_count": 1,
   "metadata": {},
   "outputs": [],
   "source": [
    "import pandas as pd\n",
    "import numpy as np\n",
    "import matplotlib.pyplot as plt\n",
    "from sklearn.model_selection import train_test_split\n",
    "from sklearn.ensemble import RandomForestClassifier, AdaBoostClassifier"
   ]
  },
  {
   "cell_type": "code",
   "execution_count": 2,
   "metadata": {},
   "outputs": [
    {
     "name": "stdout",
     "output_type": "stream",
     "text": [
      "/Users/lileo/Documents/projects/starbucks_ml/venv/bin/python3\n"
     ]
    }
   ],
   "source": [
    "import sys\n",
    "print (sys.executable)"
   ]
  },
  {
   "cell_type": "code",
   "execution_count": 3,
   "metadata": {},
   "outputs": [],
   "source": [
    "X_1 = pd.read_csv('training_data/feature_group_1.csv', index_col='id')\n",
    "X_2 = pd.read_csv('training_data/feature_group_2.csv', index_col='id')\n",
    "\n",
    "y = pd.read_csv('training_data/target.csv', index_col='id')"
   ]
  },
  {
   "cell_type": "code",
   "execution_count": 4,
   "metadata": {},
   "outputs": [],
   "source": [
    "common_index = set(X_1.index).intersection(set(y.index))\n",
    "common_index = common_index.intersection(set(X_2.index))"
   ]
  },
  {
   "cell_type": "markdown",
   "metadata": {},
   "source": [
    "## Extra Cleaning"
   ]
  },
  {
   "cell_type": "code",
   "execution_count": 5,
   "metadata": {},
   "outputs": [],
   "source": [
    "for row in y.index:\n",
    "    if row not in common_index:\n",
    "        y.drop(row, axis=0, inplace=True)\n",
    "\n",
    "for row in X_1.index:\n",
    "    if row not in common_index:\n",
    "        X_1.drop(row, axis=0, inplace=True)\n",
    "        \n",
    "for row in X_2.index:\n",
    "    if row not in common_index:\n",
    "        X_2.drop(row, axis=0, inplace=True)"
   ]
  },
  {
   "cell_type": "code",
   "execution_count": 6,
   "metadata": {},
   "outputs": [],
   "source": [
    "for row in X_1.index:\n",
    "    if X_1['gender'][row] == 'F':\n",
    "        X_1.at[row, 'numeric_gender'] = 0\n",
    "    else:\n",
    "        X_1.at[row, 'numeric_gender'] = 1\n",
    "\n",
    "X_1.drop('gender', axis=1, inplace=True)"
   ]
  },
  {
   "cell_type": "code",
   "execution_count": 7,
   "metadata": {},
   "outputs": [
    {
     "data": {
      "text/html": [
       "<div>\n",
       "<style scoped>\n",
       "    .dataframe tbody tr th:only-of-type {\n",
       "        vertical-align: middle;\n",
       "    }\n",
       "\n",
       "    .dataframe tbody tr th {\n",
       "        vertical-align: top;\n",
       "    }\n",
       "\n",
       "    .dataframe thead th {\n",
       "        text-align: right;\n",
       "    }\n",
       "</style>\n",
       "<table border=\"1\" class=\"dataframe\">\n",
       "  <thead>\n",
       "    <tr style=\"text-align: right;\">\n",
       "      <th></th>\n",
       "      <th>age</th>\n",
       "      <th>became_member_on</th>\n",
       "      <th>income</th>\n",
       "      <th>numeric_gender</th>\n",
       "    </tr>\n",
       "    <tr>\n",
       "      <th>id</th>\n",
       "      <th></th>\n",
       "      <th></th>\n",
       "      <th></th>\n",
       "      <th></th>\n",
       "    </tr>\n",
       "  </thead>\n",
       "  <tbody>\n",
       "    <tr>\n",
       "      <th>0610b486422d4921ae7d2bf64640c50b</th>\n",
       "      <td>55</td>\n",
       "      <td>20170715</td>\n",
       "      <td>112000.0</td>\n",
       "      <td>0.0</td>\n",
       "    </tr>\n",
       "    <tr>\n",
       "      <th>78afa995795e4d85b5d9ceeca43f5fef</th>\n",
       "      <td>75</td>\n",
       "      <td>20170509</td>\n",
       "      <td>100000.0</td>\n",
       "      <td>0.0</td>\n",
       "    </tr>\n",
       "    <tr>\n",
       "      <th>e2127556f4f64592b11af22de27a7932</th>\n",
       "      <td>68</td>\n",
       "      <td>20180426</td>\n",
       "      <td>70000.0</td>\n",
       "      <td>1.0</td>\n",
       "    </tr>\n",
       "    <tr>\n",
       "      <th>389bc3fa690240e798340f5a15918d5c</th>\n",
       "      <td>65</td>\n",
       "      <td>20180209</td>\n",
       "      <td>53000.0</td>\n",
       "      <td>1.0</td>\n",
       "    </tr>\n",
       "    <tr>\n",
       "      <th>2eeac8d8feae4a8cad5a6af0499a211d</th>\n",
       "      <td>58</td>\n",
       "      <td>20171111</td>\n",
       "      <td>51000.0</td>\n",
       "      <td>1.0</td>\n",
       "    </tr>\n",
       "  </tbody>\n",
       "</table>\n",
       "</div>"
      ],
      "text/plain": [
       "                                  age  became_member_on    income  \\\n",
       "id                                                                  \n",
       "0610b486422d4921ae7d2bf64640c50b   55          20170715  112000.0   \n",
       "78afa995795e4d85b5d9ceeca43f5fef   75          20170509  100000.0   \n",
       "e2127556f4f64592b11af22de27a7932   68          20180426   70000.0   \n",
       "389bc3fa690240e798340f5a15918d5c   65          20180209   53000.0   \n",
       "2eeac8d8feae4a8cad5a6af0499a211d   58          20171111   51000.0   \n",
       "\n",
       "                                  numeric_gender  \n",
       "id                                                \n",
       "0610b486422d4921ae7d2bf64640c50b             0.0  \n",
       "78afa995795e4d85b5d9ceeca43f5fef             0.0  \n",
       "e2127556f4f64592b11af22de27a7932             1.0  \n",
       "389bc3fa690240e798340f5a15918d5c             1.0  \n",
       "2eeac8d8feae4a8cad5a6af0499a211d             1.0  "
      ]
     },
     "execution_count": 7,
     "metadata": {},
     "output_type": "execute_result"
    }
   ],
   "source": [
    "X_1.head()"
   ]
  },
  {
   "cell_type": "code",
   "execution_count": 8,
   "metadata": {},
   "outputs": [
    {
     "data": {
      "text/html": [
       "<div>\n",
       "<style scoped>\n",
       "    .dataframe tbody tr th:only-of-type {\n",
       "        vertical-align: middle;\n",
       "    }\n",
       "\n",
       "    .dataframe tbody tr th {\n",
       "        vertical-align: top;\n",
       "    }\n",
       "\n",
       "    .dataframe thead th {\n",
       "        text-align: right;\n",
       "    }\n",
       "</style>\n",
       "<table border=\"1\" class=\"dataframe\">\n",
       "  <thead>\n",
       "    <tr style=\"text-align: right;\">\n",
       "      <th></th>\n",
       "      <th>Avg Daily spending</th>\n",
       "      <th>Highest daily spending</th>\n",
       "      <th>Lowest daily spending</th>\n",
       "      <th>count days no spending</th>\n",
       "      <th>count days spending 0_to_5</th>\n",
       "      <th>count days spending 5_to_10</th>\n",
       "      <th>count days spending 10_to_15</th>\n",
       "      <th>count days spending 15_to_20</th>\n",
       "      <th>count days spending 20_plus</th>\n",
       "      <th>std_daily_spending</th>\n",
       "    </tr>\n",
       "    <tr>\n",
       "      <th>id</th>\n",
       "      <th></th>\n",
       "      <th></th>\n",
       "      <th></th>\n",
       "      <th></th>\n",
       "      <th></th>\n",
       "      <th></th>\n",
       "      <th></th>\n",
       "      <th></th>\n",
       "      <th></th>\n",
       "      <th></th>\n",
       "    </tr>\n",
       "  </thead>\n",
       "  <tbody>\n",
       "    <tr>\n",
       "      <th>0009655768c64bdeb2e877511632db8f</th>\n",
       "      <td>4.253333</td>\n",
       "      <td>28.16</td>\n",
       "      <td>8.57</td>\n",
       "      <td>22.0</td>\n",
       "      <td>0.0</td>\n",
       "      <td>1.0</td>\n",
       "      <td>1.0</td>\n",
       "      <td>1.0</td>\n",
       "      <td>2.0</td>\n",
       "      <td>7.867232</td>\n",
       "    </tr>\n",
       "    <tr>\n",
       "      <th>0011e0d4e6b944f998e987f904e8c1e5</th>\n",
       "      <td>2.648667</td>\n",
       "      <td>23.03</td>\n",
       "      <td>8.96</td>\n",
       "      <td>25.0</td>\n",
       "      <td>0.0</td>\n",
       "      <td>1.0</td>\n",
       "      <td>1.0</td>\n",
       "      <td>0.0</td>\n",
       "      <td>2.0</td>\n",
       "      <td>6.461309</td>\n",
       "    </tr>\n",
       "    <tr>\n",
       "      <th>0020c2b971eb4e9188eac86d93036a77</th>\n",
       "      <td>6.562000</td>\n",
       "      <td>49.63</td>\n",
       "      <td>17.24</td>\n",
       "      <td>24.0</td>\n",
       "      <td>0.0</td>\n",
       "      <td>0.0</td>\n",
       "      <td>0.0</td>\n",
       "      <td>1.0</td>\n",
       "      <td>5.0</td>\n",
       "      <td>14.444319</td>\n",
       "    </tr>\n",
       "    <tr>\n",
       "      <th>0020ccbbb6d84e358d3414a3ff76cffd</th>\n",
       "      <td>5.135000</td>\n",
       "      <td>30.84</td>\n",
       "      <td>6.81</td>\n",
       "      <td>19.0</td>\n",
       "      <td>0.0</td>\n",
       "      <td>3.0</td>\n",
       "      <td>3.0</td>\n",
       "      <td>2.0</td>\n",
       "      <td>1.0</td>\n",
       "      <td>7.923300</td>\n",
       "    </tr>\n",
       "    <tr>\n",
       "      <th>003d66b6608740288d6cc97a6903f4f0</th>\n",
       "      <td>1.611333</td>\n",
       "      <td>9.60</td>\n",
       "      <td>0.44</td>\n",
       "      <td>16.0</td>\n",
       "      <td>11.0</td>\n",
       "      <td>3.0</td>\n",
       "      <td>3.0</td>\n",
       "      <td>0.0</td>\n",
       "      <td>0.0</td>\n",
       "      <td>2.548575</td>\n",
       "    </tr>\n",
       "  </tbody>\n",
       "</table>\n",
       "</div>"
      ],
      "text/plain": [
       "                                  Avg Daily spending  Highest daily spending  \\\n",
       "id                                                                             \n",
       "0009655768c64bdeb2e877511632db8f            4.253333                   28.16   \n",
       "0011e0d4e6b944f998e987f904e8c1e5            2.648667                   23.03   \n",
       "0020c2b971eb4e9188eac86d93036a77            6.562000                   49.63   \n",
       "0020ccbbb6d84e358d3414a3ff76cffd            5.135000                   30.84   \n",
       "003d66b6608740288d6cc97a6903f4f0            1.611333                    9.60   \n",
       "\n",
       "                                  Lowest daily spending  \\\n",
       "id                                                        \n",
       "0009655768c64bdeb2e877511632db8f                   8.57   \n",
       "0011e0d4e6b944f998e987f904e8c1e5                   8.96   \n",
       "0020c2b971eb4e9188eac86d93036a77                  17.24   \n",
       "0020ccbbb6d84e358d3414a3ff76cffd                   6.81   \n",
       "003d66b6608740288d6cc97a6903f4f0                   0.44   \n",
       "\n",
       "                                  count days no spending  \\\n",
       "id                                                         \n",
       "0009655768c64bdeb2e877511632db8f                    22.0   \n",
       "0011e0d4e6b944f998e987f904e8c1e5                    25.0   \n",
       "0020c2b971eb4e9188eac86d93036a77                    24.0   \n",
       "0020ccbbb6d84e358d3414a3ff76cffd                    19.0   \n",
       "003d66b6608740288d6cc97a6903f4f0                    16.0   \n",
       "\n",
       "                                  count days spending 0_to_5  \\\n",
       "id                                                             \n",
       "0009655768c64bdeb2e877511632db8f                         0.0   \n",
       "0011e0d4e6b944f998e987f904e8c1e5                         0.0   \n",
       "0020c2b971eb4e9188eac86d93036a77                         0.0   \n",
       "0020ccbbb6d84e358d3414a3ff76cffd                         0.0   \n",
       "003d66b6608740288d6cc97a6903f4f0                        11.0   \n",
       "\n",
       "                                  count days spending 5_to_10  \\\n",
       "id                                                              \n",
       "0009655768c64bdeb2e877511632db8f                          1.0   \n",
       "0011e0d4e6b944f998e987f904e8c1e5                          1.0   \n",
       "0020c2b971eb4e9188eac86d93036a77                          0.0   \n",
       "0020ccbbb6d84e358d3414a3ff76cffd                          3.0   \n",
       "003d66b6608740288d6cc97a6903f4f0                          3.0   \n",
       "\n",
       "                                  count days spending 10_to_15  \\\n",
       "id                                                               \n",
       "0009655768c64bdeb2e877511632db8f                           1.0   \n",
       "0011e0d4e6b944f998e987f904e8c1e5                           1.0   \n",
       "0020c2b971eb4e9188eac86d93036a77                           0.0   \n",
       "0020ccbbb6d84e358d3414a3ff76cffd                           3.0   \n",
       "003d66b6608740288d6cc97a6903f4f0                           3.0   \n",
       "\n",
       "                                  count days spending 15_to_20  \\\n",
       "id                                                               \n",
       "0009655768c64bdeb2e877511632db8f                           1.0   \n",
       "0011e0d4e6b944f998e987f904e8c1e5                           0.0   \n",
       "0020c2b971eb4e9188eac86d93036a77                           1.0   \n",
       "0020ccbbb6d84e358d3414a3ff76cffd                           2.0   \n",
       "003d66b6608740288d6cc97a6903f4f0                           0.0   \n",
       "\n",
       "                                  count days spending 20_plus  \\\n",
       "id                                                              \n",
       "0009655768c64bdeb2e877511632db8f                          2.0   \n",
       "0011e0d4e6b944f998e987f904e8c1e5                          2.0   \n",
       "0020c2b971eb4e9188eac86d93036a77                          5.0   \n",
       "0020ccbbb6d84e358d3414a3ff76cffd                          1.0   \n",
       "003d66b6608740288d6cc97a6903f4f0                          0.0   \n",
       "\n",
       "                                  std_daily_spending  \n",
       "id                                                    \n",
       "0009655768c64bdeb2e877511632db8f            7.867232  \n",
       "0011e0d4e6b944f998e987f904e8c1e5            6.461309  \n",
       "0020c2b971eb4e9188eac86d93036a77           14.444319  \n",
       "0020ccbbb6d84e358d3414a3ff76cffd            7.923300  \n",
       "003d66b6608740288d6cc97a6903f4f0            2.548575  "
      ]
     },
     "execution_count": 8,
     "metadata": {},
     "output_type": "execute_result"
    }
   ],
   "source": [
    "X_2.head()"
   ]
  },
  {
   "cell_type": "code",
   "execution_count": 9,
   "metadata": {},
   "outputs": [
    {
     "data": {
      "text/html": [
       "<div>\n",
       "<style scoped>\n",
       "    .dataframe tbody tr th:only-of-type {\n",
       "        vertical-align: middle;\n",
       "    }\n",
       "\n",
       "    .dataframe tbody tr th {\n",
       "        vertical-align: top;\n",
       "    }\n",
       "\n",
       "    .dataframe thead th {\n",
       "        text-align: right;\n",
       "    }\n",
       "</style>\n",
       "<table border=\"1\" class=\"dataframe\">\n",
       "  <thead>\n",
       "    <tr style=\"text-align: right;\">\n",
       "      <th></th>\n",
       "      <th>ae264e3637204a6fb9bb56bc8210ddfd</th>\n",
       "      <th>4d5c57ea9a6940dd891ad53e9dbe8da0</th>\n",
       "      <th>9b98b8c7a33c4b65b9aebfe6a799e6d9</th>\n",
       "      <th>0b1e1539f2cc45b7b9fa7c272da2e1d7</th>\n",
       "      <th>2298d6c36e964ae4a3e7e9706d1fb8c2</th>\n",
       "      <th>fafdcd668e3743c1bb461111dcafc2a4</th>\n",
       "      <th>f19421c1d4aa40978ebb69ca19b0e20d</th>\n",
       "      <th>2906b810c7d4411798c6938adc9daaa5</th>\n",
       "    </tr>\n",
       "    <tr>\n",
       "      <th>id</th>\n",
       "      <th></th>\n",
       "      <th></th>\n",
       "      <th></th>\n",
       "      <th></th>\n",
       "      <th></th>\n",
       "      <th></th>\n",
       "      <th></th>\n",
       "      <th></th>\n",
       "    </tr>\n",
       "  </thead>\n",
       "  <tbody>\n",
       "    <tr>\n",
       "      <th>7366bef4c288476dab78b09a33d0e692</th>\n",
       "      <td>0</td>\n",
       "      <td>1</td>\n",
       "      <td>0</td>\n",
       "      <td>0</td>\n",
       "      <td>0</td>\n",
       "      <td>0</td>\n",
       "      <td>0</td>\n",
       "      <td>0</td>\n",
       "    </tr>\n",
       "    <tr>\n",
       "      <th>b912b714bf5e40609f6ff25a9a542a9c</th>\n",
       "      <td>0</td>\n",
       "      <td>0</td>\n",
       "      <td>0</td>\n",
       "      <td>0</td>\n",
       "      <td>0</td>\n",
       "      <td>1</td>\n",
       "      <td>0</td>\n",
       "      <td>0</td>\n",
       "    </tr>\n",
       "    <tr>\n",
       "      <th>46b3c686bbbd4495940b4da488e10ed6</th>\n",
       "      <td>1</td>\n",
       "      <td>1</td>\n",
       "      <td>0</td>\n",
       "      <td>0</td>\n",
       "      <td>1</td>\n",
       "      <td>0</td>\n",
       "      <td>0</td>\n",
       "      <td>0</td>\n",
       "    </tr>\n",
       "    <tr>\n",
       "      <th>a14d4f2ec359464f8d4aeac17b755903</th>\n",
       "      <td>1</td>\n",
       "      <td>0</td>\n",
       "      <td>0</td>\n",
       "      <td>0</td>\n",
       "      <td>1</td>\n",
       "      <td>1</td>\n",
       "      <td>0</td>\n",
       "      <td>0</td>\n",
       "    </tr>\n",
       "    <tr>\n",
       "      <th>f37d9566b54547d8bdc64cc949ddab90</th>\n",
       "      <td>0</td>\n",
       "      <td>0</td>\n",
       "      <td>0</td>\n",
       "      <td>0</td>\n",
       "      <td>1</td>\n",
       "      <td>0</td>\n",
       "      <td>0</td>\n",
       "      <td>0</td>\n",
       "    </tr>\n",
       "  </tbody>\n",
       "</table>\n",
       "</div>"
      ],
      "text/plain": [
       "                                  ae264e3637204a6fb9bb56bc8210ddfd  \\\n",
       "id                                                                   \n",
       "7366bef4c288476dab78b09a33d0e692                                 0   \n",
       "b912b714bf5e40609f6ff25a9a542a9c                                 0   \n",
       "46b3c686bbbd4495940b4da488e10ed6                                 1   \n",
       "a14d4f2ec359464f8d4aeac17b755903                                 1   \n",
       "f37d9566b54547d8bdc64cc949ddab90                                 0   \n",
       "\n",
       "                                  4d5c57ea9a6940dd891ad53e9dbe8da0  \\\n",
       "id                                                                   \n",
       "7366bef4c288476dab78b09a33d0e692                                 1   \n",
       "b912b714bf5e40609f6ff25a9a542a9c                                 0   \n",
       "46b3c686bbbd4495940b4da488e10ed6                                 1   \n",
       "a14d4f2ec359464f8d4aeac17b755903                                 0   \n",
       "f37d9566b54547d8bdc64cc949ddab90                                 0   \n",
       "\n",
       "                                  9b98b8c7a33c4b65b9aebfe6a799e6d9  \\\n",
       "id                                                                   \n",
       "7366bef4c288476dab78b09a33d0e692                                 0   \n",
       "b912b714bf5e40609f6ff25a9a542a9c                                 0   \n",
       "46b3c686bbbd4495940b4da488e10ed6                                 0   \n",
       "a14d4f2ec359464f8d4aeac17b755903                                 0   \n",
       "f37d9566b54547d8bdc64cc949ddab90                                 0   \n",
       "\n",
       "                                  0b1e1539f2cc45b7b9fa7c272da2e1d7  \\\n",
       "id                                                                   \n",
       "7366bef4c288476dab78b09a33d0e692                                 0   \n",
       "b912b714bf5e40609f6ff25a9a542a9c                                 0   \n",
       "46b3c686bbbd4495940b4da488e10ed6                                 0   \n",
       "a14d4f2ec359464f8d4aeac17b755903                                 0   \n",
       "f37d9566b54547d8bdc64cc949ddab90                                 0   \n",
       "\n",
       "                                  2298d6c36e964ae4a3e7e9706d1fb8c2  \\\n",
       "id                                                                   \n",
       "7366bef4c288476dab78b09a33d0e692                                 0   \n",
       "b912b714bf5e40609f6ff25a9a542a9c                                 0   \n",
       "46b3c686bbbd4495940b4da488e10ed6                                 1   \n",
       "a14d4f2ec359464f8d4aeac17b755903                                 1   \n",
       "f37d9566b54547d8bdc64cc949ddab90                                 1   \n",
       "\n",
       "                                  fafdcd668e3743c1bb461111dcafc2a4  \\\n",
       "id                                                                   \n",
       "7366bef4c288476dab78b09a33d0e692                                 0   \n",
       "b912b714bf5e40609f6ff25a9a542a9c                                 1   \n",
       "46b3c686bbbd4495940b4da488e10ed6                                 0   \n",
       "a14d4f2ec359464f8d4aeac17b755903                                 1   \n",
       "f37d9566b54547d8bdc64cc949ddab90                                 0   \n",
       "\n",
       "                                  f19421c1d4aa40978ebb69ca19b0e20d  \\\n",
       "id                                                                   \n",
       "7366bef4c288476dab78b09a33d0e692                                 0   \n",
       "b912b714bf5e40609f6ff25a9a542a9c                                 0   \n",
       "46b3c686bbbd4495940b4da488e10ed6                                 0   \n",
       "a14d4f2ec359464f8d4aeac17b755903                                 0   \n",
       "f37d9566b54547d8bdc64cc949ddab90                                 0   \n",
       "\n",
       "                                  2906b810c7d4411798c6938adc9daaa5  \n",
       "id                                                                  \n",
       "7366bef4c288476dab78b09a33d0e692                                 0  \n",
       "b912b714bf5e40609f6ff25a9a542a9c                                 0  \n",
       "46b3c686bbbd4495940b4da488e10ed6                                 0  \n",
       "a14d4f2ec359464f8d4aeac17b755903                                 0  \n",
       "f37d9566b54547d8bdc64cc949ddab90                                 0  "
      ]
     },
     "execution_count": 9,
     "metadata": {},
     "output_type": "execute_result"
    }
   ],
   "source": [
    "y.head()"
   ]
  },
  {
   "cell_type": "markdown",
   "metadata": {},
   "source": [
    "## Modeling Feature Group 1"
   ]
  },
  {
   "cell_type": "code",
   "execution_count": 10,
   "metadata": {},
   "outputs": [],
   "source": [
    "X_train_1, X_test_1, y_train_1, y_test_1 = train_test_split(np.asarray(X_1), y, test_size=0.20, random_state=10)"
   ]
  },
  {
   "cell_type": "code",
   "execution_count": 11,
   "metadata": {},
   "outputs": [
    {
     "data": {
      "text/html": [
       "<div>\n",
       "<style scoped>\n",
       "    .dataframe tbody tr th:only-of-type {\n",
       "        vertical-align: middle;\n",
       "    }\n",
       "\n",
       "    .dataframe tbody tr th {\n",
       "        vertical-align: top;\n",
       "    }\n",
       "\n",
       "    .dataframe thead th {\n",
       "        text-align: right;\n",
       "    }\n",
       "</style>\n",
       "<table border=\"1\" class=\"dataframe\">\n",
       "  <thead>\n",
       "    <tr style=\"text-align: right;\">\n",
       "      <th></th>\n",
       "      <th>ae264e3637204a6fb9bb56bc8210ddfd</th>\n",
       "      <th>4d5c57ea9a6940dd891ad53e9dbe8da0</th>\n",
       "      <th>9b98b8c7a33c4b65b9aebfe6a799e6d9</th>\n",
       "      <th>0b1e1539f2cc45b7b9fa7c272da2e1d7</th>\n",
       "      <th>2298d6c36e964ae4a3e7e9706d1fb8c2</th>\n",
       "      <th>fafdcd668e3743c1bb461111dcafc2a4</th>\n",
       "      <th>f19421c1d4aa40978ebb69ca19b0e20d</th>\n",
       "      <th>2906b810c7d4411798c6938adc9daaa5</th>\n",
       "    </tr>\n",
       "    <tr>\n",
       "      <th>id</th>\n",
       "      <th></th>\n",
       "      <th></th>\n",
       "      <th></th>\n",
       "      <th></th>\n",
       "      <th></th>\n",
       "      <th></th>\n",
       "      <th></th>\n",
       "      <th></th>\n",
       "    </tr>\n",
       "  </thead>\n",
       "  <tbody>\n",
       "    <tr>\n",
       "      <th>a63cf729b0b44a12be0993e414676489</th>\n",
       "      <td>0</td>\n",
       "      <td>0</td>\n",
       "      <td>0</td>\n",
       "      <td>1</td>\n",
       "      <td>0</td>\n",
       "      <td>0</td>\n",
       "      <td>1</td>\n",
       "      <td>0</td>\n",
       "    </tr>\n",
       "    <tr>\n",
       "      <th>4b72995c52ab4cd5ab407924b09e1ab4</th>\n",
       "      <td>0</td>\n",
       "      <td>0</td>\n",
       "      <td>1</td>\n",
       "      <td>0</td>\n",
       "      <td>0</td>\n",
       "      <td>0</td>\n",
       "      <td>1</td>\n",
       "      <td>0</td>\n",
       "    </tr>\n",
       "    <tr>\n",
       "      <th>46bff6d3b8fb462880a0d476c3945c33</th>\n",
       "      <td>1</td>\n",
       "      <td>0</td>\n",
       "      <td>1</td>\n",
       "      <td>0</td>\n",
       "      <td>1</td>\n",
       "      <td>0</td>\n",
       "      <td>0</td>\n",
       "      <td>0</td>\n",
       "    </tr>\n",
       "    <tr>\n",
       "      <th>af69a507aefd4ecdbc4c33b0ec4dfe61</th>\n",
       "      <td>0</td>\n",
       "      <td>0</td>\n",
       "      <td>0</td>\n",
       "      <td>0</td>\n",
       "      <td>1</td>\n",
       "      <td>0</td>\n",
       "      <td>1</td>\n",
       "      <td>0</td>\n",
       "    </tr>\n",
       "    <tr>\n",
       "      <th>d0c81b8228754cc1abcf010c212d308e</th>\n",
       "      <td>0</td>\n",
       "      <td>0</td>\n",
       "      <td>0</td>\n",
       "      <td>0</td>\n",
       "      <td>0</td>\n",
       "      <td>1</td>\n",
       "      <td>0</td>\n",
       "      <td>0</td>\n",
       "    </tr>\n",
       "  </tbody>\n",
       "</table>\n",
       "</div>"
      ],
      "text/plain": [
       "                                  ae264e3637204a6fb9bb56bc8210ddfd  \\\n",
       "id                                                                   \n",
       "a63cf729b0b44a12be0993e414676489                                 0   \n",
       "4b72995c52ab4cd5ab407924b09e1ab4                                 0   \n",
       "46bff6d3b8fb462880a0d476c3945c33                                 1   \n",
       "af69a507aefd4ecdbc4c33b0ec4dfe61                                 0   \n",
       "d0c81b8228754cc1abcf010c212d308e                                 0   \n",
       "\n",
       "                                  4d5c57ea9a6940dd891ad53e9dbe8da0  \\\n",
       "id                                                                   \n",
       "a63cf729b0b44a12be0993e414676489                                 0   \n",
       "4b72995c52ab4cd5ab407924b09e1ab4                                 0   \n",
       "46bff6d3b8fb462880a0d476c3945c33                                 0   \n",
       "af69a507aefd4ecdbc4c33b0ec4dfe61                                 0   \n",
       "d0c81b8228754cc1abcf010c212d308e                                 0   \n",
       "\n",
       "                                  9b98b8c7a33c4b65b9aebfe6a799e6d9  \\\n",
       "id                                                                   \n",
       "a63cf729b0b44a12be0993e414676489                                 0   \n",
       "4b72995c52ab4cd5ab407924b09e1ab4                                 1   \n",
       "46bff6d3b8fb462880a0d476c3945c33                                 1   \n",
       "af69a507aefd4ecdbc4c33b0ec4dfe61                                 0   \n",
       "d0c81b8228754cc1abcf010c212d308e                                 0   \n",
       "\n",
       "                                  0b1e1539f2cc45b7b9fa7c272da2e1d7  \\\n",
       "id                                                                   \n",
       "a63cf729b0b44a12be0993e414676489                                 1   \n",
       "4b72995c52ab4cd5ab407924b09e1ab4                                 0   \n",
       "46bff6d3b8fb462880a0d476c3945c33                                 0   \n",
       "af69a507aefd4ecdbc4c33b0ec4dfe61                                 0   \n",
       "d0c81b8228754cc1abcf010c212d308e                                 0   \n",
       "\n",
       "                                  2298d6c36e964ae4a3e7e9706d1fb8c2  \\\n",
       "id                                                                   \n",
       "a63cf729b0b44a12be0993e414676489                                 0   \n",
       "4b72995c52ab4cd5ab407924b09e1ab4                                 0   \n",
       "46bff6d3b8fb462880a0d476c3945c33                                 1   \n",
       "af69a507aefd4ecdbc4c33b0ec4dfe61                                 1   \n",
       "d0c81b8228754cc1abcf010c212d308e                                 0   \n",
       "\n",
       "                                  fafdcd668e3743c1bb461111dcafc2a4  \\\n",
       "id                                                                   \n",
       "a63cf729b0b44a12be0993e414676489                                 0   \n",
       "4b72995c52ab4cd5ab407924b09e1ab4                                 0   \n",
       "46bff6d3b8fb462880a0d476c3945c33                                 0   \n",
       "af69a507aefd4ecdbc4c33b0ec4dfe61                                 0   \n",
       "d0c81b8228754cc1abcf010c212d308e                                 1   \n",
       "\n",
       "                                  f19421c1d4aa40978ebb69ca19b0e20d  \\\n",
       "id                                                                   \n",
       "a63cf729b0b44a12be0993e414676489                                 1   \n",
       "4b72995c52ab4cd5ab407924b09e1ab4                                 1   \n",
       "46bff6d3b8fb462880a0d476c3945c33                                 0   \n",
       "af69a507aefd4ecdbc4c33b0ec4dfe61                                 1   \n",
       "d0c81b8228754cc1abcf010c212d308e                                 0   \n",
       "\n",
       "                                  2906b810c7d4411798c6938adc9daaa5  \n",
       "id                                                                  \n",
       "a63cf729b0b44a12be0993e414676489                                 0  \n",
       "4b72995c52ab4cd5ab407924b09e1ab4                                 0  \n",
       "46bff6d3b8fb462880a0d476c3945c33                                 0  \n",
       "af69a507aefd4ecdbc4c33b0ec4dfe61                                 0  \n",
       "d0c81b8228754cc1abcf010c212d308e                                 0  "
      ]
     },
     "execution_count": 11,
     "metadata": {},
     "output_type": "execute_result"
    }
   ],
   "source": [
    "y_test_1[:5]"
   ]
  },
  {
   "cell_type": "code",
   "execution_count": 12,
   "metadata": {},
   "outputs": [
    {
     "name": "stdout",
     "output_type": "stream",
     "text": [
      "score: 0.8065857885615252\n",
      "score: 0.7909878682842287\n",
      "score: 0.8506065857885615\n",
      "score: 0.9133448873483535\n",
      "score: 0.6911611785095321\n",
      "score: 0.7043327556325824\n",
      "score: 0.7358752166377817\n",
      "score: 0.8481802426343155\n"
     ]
    },
    {
     "data": {
      "image/png": "[encoded data removed]",
      "text/plain": [
       "<Figure size 432x288 with 1 Axes>"
      ]
     },
     "metadata": {
      "needs_background": "light"
     },
     "output_type": "display_data"
    }
   ],
   "source": [
    "for coupon in y_train_1.columns:\n",
    "\n",
    "    clf = RandomForestClassifier(n_estimators=100,\n",
    "                                 random_state=11,\n",
    "                                 min_samples_split=10,\n",
    "                                 class_weight='balanced')\n",
    "    clf.fit(X_train_1, y_train_1.loc[:][coupon])  \n",
    "\n",
    "    feat_importances = pd.Series(clf.feature_importances_, index=X_1.columns)\n",
    "    feat_importances.nlargest(14).plot(kind='barh')\n",
    "    print('score:', clf.score(X_test_1, y_test_1.loc[:][coupon]))"
   ]
  },
  {
   "cell_type": "markdown",
   "metadata": {},
   "source": [
    "## Modeling Feature Group 2"
   ]
  },
  {
   "cell_type": "code",
   "execution_count": 13,
   "metadata": {},
   "outputs": [],
   "source": [
    "X_train_2, X_test_2, y_train_2, y_test_2 = train_test_split(np.asarray(X_2), y, test_size=0.20, random_state=10)"
   ]
  },
  {
   "cell_type": "code",
   "execution_count": 14,
   "metadata": {},
   "outputs": [
    {
     "name": "stdout",
     "output_type": "stream",
     "text": [
      "score: 0.8166377816291162\n",
      "score: 0.8031195840554592\n",
      "score: 0.8623916811091854\n",
      "score: 0.9161178509532062\n",
      "score: 0.6960138648180243\n",
      "score: 0.6890814558058925\n",
      "score: 0.7417677642980935\n",
      "score: 0.8512998266897747\n"
     ]
    },
    {
     "data": {
      "image/png": "[encoded data removed]",
      "text/plain": [
       "<Figure size 432x288 with 1 Axes>"
      ]
     },
     "metadata": {
      "needs_background": "light"
     },
     "output_type": "display_data"
    }
   ],
   "source": [
    "for coupon in y_train_2.columns:\n",
    "\n",
    "    clf = RandomForestClassifier(n_estimators=100,\n",
    "                                 random_state=11,\n",
    "                                 min_samples_split=10, \n",
    "                                 class_weight='balanced')\n",
    "    clf.fit(X_train_2, y_train_2.loc[:][coupon])  \n",
    "\n",
    "    feat_importances = pd.Series(clf.feature_importances_, index=X_2.columns)\n",
    "    feat_importances.nlargest(14).plot(kind='barh')\n",
    "    print('score:', clf.score(X_test_2, y_test_2.loc[:][coupon]))"
   ]
  },
  {
   "cell_type": "markdown",
   "metadata": {},
   "source": [
    "## Modeling Feature both Groups"
   ]
  },
  {
   "cell_type": "code",
   "execution_count": 15,
   "metadata": {},
   "outputs": [
    {
     "name": "stderr",
     "output_type": "stream",
     "text": [
      "/Users/lileo/Documents/projects/starbucks_ml/venv/lib/python3.7/site-packages/ipykernel_launcher.py:1: FutureWarning: Sorting because non-concatenation axis is not aligned. A future version\n",
      "of pandas will change to not sort by default.\n",
      "\n",
      "To accept the future behavior, pass 'sort=False'.\n",
      "\n",
      "To retain the current behavior and silence the warning, pass 'sort=True'.\n",
      "\n",
      "  \"\"\"Entry point for launching an IPython kernel.\n"
     ]
    }
   ],
   "source": [
    "X = pd.concat((X_1, X_2), axis=1)\n",
    "X_train, X_test, y_train, y_test = train_test_split(X.values, y, test_size=0.20, random_state=10)"
   ]
  },
  {
   "cell_type": "code",
   "execution_count": 16,
   "metadata": {},
   "outputs": [
    {
     "name": "stdout",
     "output_type": "stream",
     "text": [
      "score: 0.8374350086655112\n",
      "score: 0.8239168110918544\n",
      "score: 0.8745233968804159\n",
      "score: 0.9202772963604853\n",
      "score: 0.7383015597920277\n",
      "score: 0.7393414211438475\n",
      "score: 0.7750433275563259\n",
      "score: 0.8682842287694974\n"
     ]
    },
    {
     "data": {
      "image/png": "[encoded data removed]",
      "text/plain": [
       "<Figure size 432x288 with 1 Axes>"
      ]
     },
     "metadata": {
      "needs_background": "light"
     },
     "output_type": "display_data"
    }
   ],
   "source": [
    "for coupon in y_train.columns:\n",
    "\n",
    "    clf = RandomForestClassifier(n_estimators=100,\n",
    "                                 random_state=11,\n",
    "                                 min_samples_split=10, \n",
    "                                 class_weight='balanced')\n",
    "    clf.fit(X_train, y_train.loc[:][coupon])  \n",
    "\n",
    "    feat_importances = pd.Series(clf.feature_importances_, index=X.columns)\n",
    "    feat_importances.nlargest(14).plot(kind='barh')\n",
    "    print('score:', clf.score(X_test, y_test.loc[:][coupon]))"
   ]
  },
  {
   "cell_type": "markdown",
   "metadata": {},
   "source": [
    "## HyperOpts"
   ]
  },
  {
   "cell_type": "code",
   "execution_count": 17,
   "metadata": {},
   "outputs": [],
   "source": [
    "from hyperopt import hp\n",
    "\n",
    "space = hp.uniform('x', -5, 6)"
   ]
  },
  {
   "cell_type": "code",
   "execution_count": 18,
   "metadata": {},
   "outputs": [
    {
     "data": {
      "image/png": "[encoded data removed]",
      "text/plain": [
       "<Figure size 432x288 with 1 Axes>"
      ]
     },
     "metadata": {
      "needs_background": "light"
     },
     "output_type": "display_data"
    }
   ],
   "source": [
    "from hyperopt.pyll.stochastic import sample\n",
    "\n",
    "\n",
    "samples = []\n",
    "\n",
    "# Sample 10000 values from the range\n",
    "for _ in range(10000):\n",
    "    samples.append(sample(space))\n",
    "    \n",
    "\n",
    "# Histogram of the values\n",
    "plt.hist(samples, bins = 20, edgecolor = 'black'); \n",
    "plt.xlabel('x'); plt.ylabel('Frequency'); plt.title('Domain Space');"
   ]
  },
  {
   "cell_type": "code",
   "execution_count": null,
   "metadata": {},
   "outputs": [],
   "source": []
  }
 ],
 "metadata": {
  "kernelspec": {
   "display_name": "Python 3",
   "language": "python",
   "name": "python3"
  },
  "language_info": {
   "codemirror_mode": {
    "name": "ipython",
    "version": 3
   },
   "file_extension": ".py",
   "mimetype": "text/x-python",
   "name": "python",
   "nbconvert_exporter": "python",
   "pygments_lexer": "ipython3",
   "version": "3.7.5"
  }
 },
 "nbformat": 4,
 "nbformat_minor": 4
}
