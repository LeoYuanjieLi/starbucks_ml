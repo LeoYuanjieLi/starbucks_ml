{
 "cells": [
  {
   "cell_type": "markdown",
   "metadata": {},
   "source": [
    "# Model Training"
   ]
  },
  {
   "cell_type": "code",
   "execution_count": 1,
   "metadata": {},
   "outputs": [],
   "source": [
    "import pandas as pd\n",
    "import numpy as np\n",
    "import matplotlib.pyplot as plt\n",
    "from sklearn.model_selection import train_test_split\n",
    "from sklearn.ensemble import RandomForestClassifier, AdaBoostClassifier"
   ]
  },
  {
   "cell_type": "code",
   "execution_count": 2,
   "metadata": {},
   "outputs": [
    {
     "name": "stdout",
     "output_type": "stream",
     "text": [
      "/Users/lileo/Documents/projects/starbucks_ml/venv/bin/python3\n"
     ]
    }
   ],
   "source": [
    "import sys\n",
    "print (sys.executable)"
   ]
  },
  {
   "cell_type": "code",
   "execution_count": 3,
   "metadata": {},
   "outputs": [],
   "source": [
    "X_1 = pd.read_csv('training_data/feature_group_1.csv', index_col='id')\n",
    "X_2 = pd.read_csv('training_data/feature_group_2.csv', index_col='id')\n",
    "\n",
    "y = pd.read_csv('training_data/target.csv', index_col='id')"
   ]
  },
  {
   "cell_type": "code",
   "execution_count": 4,
   "metadata": {},
   "outputs": [],
   "source": [
    "common_index = set(X_1.index).intersection(set(y.index))\n",
    "common_index = common_index.intersection(set(X_2.index))"
   ]
  },
  {
   "cell_type": "markdown",
   "metadata": {},
   "source": [
    "## Extra Cleaning"
   ]
  },
  {
   "cell_type": "code",
   "execution_count": 5,
   "metadata": {},
   "outputs": [],
   "source": [
    "for row in y.index:\n",
    "    if row not in common_index:\n",
    "        y.drop(row, axis=0, inplace=True)\n",
    "\n",
    "for row in X_1.index:\n",
    "    if row not in common_index:\n",
    "        X_1.drop(row, axis=0, inplace=True)\n",
    "        \n",
    "for row in X_2.index:\n",
    "    if row not in common_index:\n",
    "        X_2.drop(row, axis=0, inplace=True)"
   ]
  },
  {
   "cell_type": "code",
   "execution_count": 6,
   "metadata": {},
   "outputs": [],
   "source": [
    "for row in X_1.index:\n",
    "    if X_1['gender'][row] == 'F':\n",
    "        X_1.at[row, 'numeric_gender'] = 0\n",
    "    else:\n",
    "        X_1.at[row, 'numeric_gender'] = 1\n",
    "\n",
    "X_1.drop('gender', axis=1, inplace=True)"
   ]
  },
  {
   "cell_type": "markdown",
   "metadata": {},
   "source": [
    "### Feature Group 1 - Convert to numaric number"
   ]
  },
  {
   "cell_type": "markdown",
   "metadata": {},
   "source": [
    "## Modeling Feature Group 1"
   ]
  },
  {
   "cell_type": "code",
   "execution_count": 7,
   "metadata": {},
   "outputs": [],
   "source": [
    "X_train_1, X_test_1, y_train_1, y_test_1 = train_test_split(np.asarray(X_1), y, test_size=0.20, random_state=10)"
   ]
  },
  {
   "cell_type": "code",
   "execution_count": 8,
   "metadata": {},
   "outputs": [
    {
     "data": {
      "image/png": "[encoded data removed]",
      "text/plain": [
       "<Figure size 432x288 with 1 Axes>"
      ]
     },
     "metadata": {
      "needs_background": "light"
     },
     "output_type": "display_data"
    },
    {
     "name": "stdout",
     "output_type": "stream",
     "text": [
      "score: 0.2467937608318891\n"
     ]
    }
   ],
   "source": [
    "clf = RandomForestClassifier(n_estimators=100,\n",
    "                             random_state=11,\n",
    "                            min_samples_split=10)\n",
    "clf.fit(X_train_1, y_train_1)  \n",
    "\n",
    "feat_importances = pd.Series(clf.feature_importances_, index=X_1.columns)\n",
    "feat_importances.nlargest(14).plot(kind='barh')\n",
    "plt.show()\n",
    "print('score:', clf.score(X_test_1, y_test_1))"
   ]
  },
  {
   "cell_type": "markdown",
   "metadata": {},
   "source": [
    "## Modeling Feature Group 2"
   ]
  },
  {
   "cell_type": "code",
   "execution_count": 9,
   "metadata": {},
   "outputs": [],
   "source": [
    "X_train_2, X_test_2, y_train_2, y_test_2 = train_test_split(np.asarray(X_2), y, test_size=0.20, random_state=10)"
   ]
  },
  {
   "cell_type": "code",
   "execution_count": 10,
   "metadata": {},
   "outputs": [
    {
     "data": {
      "image/png": "[encoded data removed]",
      "text/plain": [
       "<Figure size 432x288 with 1 Axes>"
      ]
     },
     "metadata": {
      "needs_background": "light"
     },
     "output_type": "display_data"
    },
    {
     "name": "stdout",
     "output_type": "stream",
     "text": [
      "score: 0.24575389948006932\n"
     ]
    }
   ],
   "source": [
    "clf = RandomForestClassifier(n_estimators=100,\n",
    "                             random_state=11,\n",
    "                            min_samples_split=10)\n",
    "clf.fit(X_train_2, y_train_2)  \n",
    "\n",
    "feat_importances = pd.Series(clf.feature_importances_, index=X_2.columns)\n",
    "feat_importances.nlargest(14).plot(kind='barh')\n",
    "plt.show()\n",
    "print('score:', clf.score(X_test_2, y_test_2))"
   ]
  },
  {
   "cell_type": "markdown",
   "metadata": {},
   "source": [
    "## Modeling Feature both Groups"
   ]
  },
  {
   "cell_type": "code",
   "execution_count": 16,
   "metadata": {},
   "outputs": [
    {
     "name": "stderr",
     "output_type": "stream",
     "text": [
      "/Users/lileo/Documents/projects/starbucks_ml/venv/lib/python3.7/site-packages/ipykernel_launcher.py:1: FutureWarning: Sorting because non-concatenation axis is not aligned. A future version\n",
      "of pandas will change to not sort by default.\n",
      "\n",
      "To accept the future behavior, pass 'sort=False'.\n",
      "\n",
      "To retain the current behavior and silence the warning, pass 'sort=True'.\n",
      "\n",
      "  \"\"\"Entry point for launching an IPython kernel.\n"
     ]
    }
   ],
   "source": [
    "X = pd.concat((X_1, X_2), axis=1)\n",
    "X_train, X_test, y_train, y_test = train_test_split(X.values, y, test_size=0.20, random_state=10)"
   ]
  },
  {
   "cell_type": "code",
   "execution_count": 17,
   "metadata": {},
   "outputs": [
    {
     "data": {
      "image/png": "[encoded data removed]",
      "text/plain": [
       "<Figure size 432x288 with 1 Axes>"
      ]
     },
     "metadata": {
      "needs_background": "light"
     },
     "output_type": "display_data"
    },
    {
     "name": "stdout",
     "output_type": "stream",
     "text": [
      "score: 0.24783362218370883\n"
     ]
    }
   ],
   "source": [
    "clf = RandomForestClassifier(n_estimators=100,\n",
    "                             random_state=11,\n",
    "                            min_samples_split=10)\n",
    "clf.fit(X_train, y_train)  \n",
    "\n",
    "feat_importances = pd.Series(clf.feature_importances_, index=X.columns)\n",
    "feat_importances.nlargest(14).plot(kind='barh')\n",
    "plt.show()\n",
    "print('score:', clf.score(X_test, y_test))"
   ]
  },
  {
   "cell_type": "code",
   "execution_count": null,
   "metadata": {},
   "outputs": [],
   "source": []
  }
 ],
 "metadata": {
  "kernelspec": {
   "display_name": "Python 3",
   "language": "python",
   "name": "python3"
  },
  "language_info": {
   "codemirror_mode": {
    "name": "ipython",
    "version": 3
   },
   "file_extension": ".py",
   "mimetype": "text/x-python",
   "name": "python",
   "nbconvert_exporter": "python",
   "pygments_lexer": "ipython3",
   "version": "3.7.5"
  }
 },
 "nbformat": 4,
 "nbformat_minor": 4
}
